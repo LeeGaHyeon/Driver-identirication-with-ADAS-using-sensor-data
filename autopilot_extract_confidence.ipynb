{
  "nbformat": 4,
  "nbformat_minor": 0,
  "metadata": {
    "colab": {
      "provenance": [],
      "gpuType": "T4"
    },
    "kernelspec": {
      "name": "python3",
      "display_name": "Python 3"
    },
    "language_info": {
      "name": "python"
    },
    "accelerator": "GPU"
  },
  "cells": [
    {
      "cell_type": "code",
      "source": [
        "df = pd.read_csv('./merge_data.csv', encoding='cp949')\n",
        "df = df.sample(frac=1, random_state=7777).reset_index(drop=True)"
      ],
      "metadata": {
        "id": "cJxVekPUsqZ8"
      },
      "execution_count": 99,
      "outputs": []
    },
    {
      "cell_type": "code",
      "source": [
        "df_train = df[df['round'] != 2]\n",
        "df_valid = df[df['round'] == 2]"
      ],
      "metadata": {
        "id": "RjT8VKJfxkzU"
      },
      "execution_count": 100,
      "outputs": []
    },
    {
      "cell_type": "code",
      "source": [
        "df.columns"
      ],
      "metadata": {
        "colab": {
          "base_uri": "https://localhost:8080/"
        },
        "id": "xAm_b6SBta8P",
        "outputId": "66a8a7c1-8ccc-4b54-9f0b-e2bdd8507c22"
      },
      "execution_count": 92,
      "outputs": [
        {
          "output_type": "execute_result",
          "data": {
            "text/plain": [
              "Index(['Unnamed: 0', 'timestamp_rounded', 'RearHeatPower266',\n",
              "       'DI_accelPedalPos', 'Unnamed: 4', 'DI_regenLight', 'DI_vehicleSpeed',\n",
              "       'DI_regenLight.1', 'DIR_torqueActual', 'RearTorque1D8',\n",
              "       'SystemHeatPowerMax268', 'SmoothBattCurrent132', 'DIR_torqueCommand',\n",
              "       'DI_regenLight.2', 'SteeringSpeed129', 'DI_vehicleSpeed.1',\n",
              "       'RearHeatPower266_mean', 'RearHeatPower266_std',\n",
              "       'RearHeatPower266_median', 'DI_accelPedalPos_mean',\n",
              "       'DI_accelPedalPos_std', 'DI_accelPedalPos_median', 'DI_regenLight_mean',\n",
              "       'DI_regenLight_std', 'DI_regenLight_median', 'DI_vehicleSpeed_mean',\n",
              "       'DI_vehicleSpeed_std', 'DI_vehicleSpeed_median', 'DI_regenLight.1_mean',\n",
              "       'DI_regenLight.1_std', 'DI_regenLight.1_median',\n",
              "       'DIR_torqueActual_mean', 'DIR_torqueActual_std',\n",
              "       'DIR_torqueActual_median', 'RearTorque1D8_mean', 'RearTorque1D8_std',\n",
              "       'RearTorque1D8_median', 'SystemHeatPowerMax268_mean',\n",
              "       'SystemHeatPowerMax268_std', 'SystemHeatPowerMax268_median',\n",
              "       'SmoothBattCurrent132_mean', 'SmoothBattCurrent132_std',\n",
              "       'SmoothBattCurrent132_median', 'DIR_torqueCommand_mean',\n",
              "       'DIR_torqueCommand_std', 'DIR_torqueCommand_median',\n",
              "       'DI_regenLight.2_mean', 'DI_regenLight.2_std', 'DI_regenLight.2_median',\n",
              "       'SteeringSpeed129_mean', 'SteeringSpeed129_std',\n",
              "       'SteeringSpeed129_median', 'DI_vehicleSpeed.1_mean',\n",
              "       'DI_vehicleSpeed.1_std', 'DI_vehicleSpeed.1_median', 'round', 'label'],\n",
              "      dtype='object')"
            ]
          },
          "metadata": {},
          "execution_count": 92
        }
      ]
    },
    {
      "cell_type": "code",
      "source": [
        "# 이후의 데이터 처리 코드\n",
        "train_data = df_train.drop(['Unnamed: 4','Unnamed: 0','round', 'timestamp_rounded'], axis=1)\n",
        "valid_data = df_valid.drop(['Unnamed: 4','Unnamed: 0','round', 'timestamp_rounded'], axis=1)"
      ],
      "metadata": {
        "id": "LAwEOgb6sqcU"
      },
      "execution_count": 101,
      "outputs": []
    },
    {
      "cell_type": "code",
      "source": [
        "train_data.reset_index(inplace=True, drop=True)\n",
        "valid_data.reset_index(inplace=True, drop=True)"
      ],
      "metadata": {
        "id": "oS9p9Twrsqek"
      },
      "execution_count": 102,
      "outputs": []
    },
    {
      "cell_type": "code",
      "source": [
        "# X_train = train_data.drop('label', axis=1)\n",
        "# y_train = train_data['label']\n",
        "\n",
        "# X_valid = valid_data.drop('label', axis=1)\n",
        "# y_valid = valid_data['label']"
      ],
      "metadata": {
        "id": "5cXhDdB5sqg0"
      },
      "execution_count": 24,
      "outputs": []
    },
    {
      "cell_type": "code",
      "source": [
        "# 결측치 drop\n",
        "X_train = X_train.fillna(method='ffill')\n",
        "y_train = y_train[X_train.index]\n",
        "\n",
        "X_valid = X_valid.fillna(method='ffill')\n",
        "y_valid = y_valid[X_valid.index]"
      ],
      "metadata": {
        "id": "LLDJcp-VtrJp"
      },
      "execution_count": 103,
      "outputs": []
    },
    {
      "cell_type": "code",
      "source": [
        "X_train = train_data.drop('label', axis=1)\n",
        "y_train = train_data['label']\n",
        "\n",
        "X_valid = valid_data.drop('label', axis=1)\n",
        "y_valid = valid_data['label']"
      ],
      "metadata": {
        "id": "i6xFPAKAtrOL"
      },
      "execution_count": 104,
      "outputs": []
    },
    {
      "cell_type": "code",
      "source": [
        "# 결측치 확인\n",
        "print(X_train.isnull().sum().sum())  # 모든 결측치의 수를 출력\n",
        "\n",
        "# SimpleImputer를 사용하여 결측치를 평균값으로 채움\n",
        "from sklearn.impute import SimpleImputer\n",
        "imputer = SimpleImputer(strategy='mean')\n",
        "X_train_imputed = imputer.fit_transform(X_train)\n",
        "\n",
        "# 결측치 처리 후 데이터 검증\n",
        "print(pd.DataFrame(X_train_imputed).isnull().sum().sum())  # 모든 결측치의 수를 출력\n",
        "\n",
        "# X_valid에 대한 결측치 처리\n",
        "X_valid_imputed = imputer.transform(X_valid)  # 이미 학습된 imputer 사용\n",
        "\n",
        "# 결측치 처리 후 데이터 검증\n",
        "print(pd.DataFrame(X_valid_imputed).isnull().sum().sum())  # 모든 결측치의 수를 출력\n",
        "\n",
        "# 모델 학습\n",
        "mlp_model = MLPClassifier(random_state=42, max_iter=500)  # max_iter를 증가\n",
        "mlp_model.fit(X_train_imputed, y_train)\n",
        "\n",
        "# 모델 예측\n",
        "y_pred_mlp = mlp_model.predict(X_valid_imputed)\n",
        "\n",
        "joblib.dump(mlp_model, 'mlp_model_round_2.pkl')"
      ],
      "metadata": {
        "colab": {
          "base_uri": "https://localhost:8080/"
        },
        "id": "IwbMEzfdvExJ",
        "outputId": "97c9b9f5-a39e-4e37-84a0-69b6aca31de0"
      },
      "execution_count": 105,
      "outputs": [
        {
          "output_type": "stream",
          "name": "stdout",
          "text": [
            "36\n",
            "0\n",
            "0\n"
          ]
        },
        {
          "output_type": "stream",
          "name": "stderr",
          "text": [
            "/usr/local/lib/python3.10/dist-packages/sklearn/neural_network/_multilayer_perceptron.py:686: ConvergenceWarning: Stochastic Optimizer: Maximum iterations (500) reached and the optimization hasn't converged yet.\n",
            "  warnings.warn(\n"
          ]
        },
        {
          "output_type": "execute_result",
          "data": {
            "text/plain": [
              "['mlp_model_round_2.pkl']"
            ]
          },
          "metadata": {},
          "execution_count": 105
        }
      ]
    },
    {
      "cell_type": "code",
      "source": [
        "import joblib\n",
        "import numpy as np\n",
        "import pandas as pd\n",
        "\n",
        "from sklearn.impute import SimpleImputer\n",
        "\n",
        "# SimpleImputer 인스턴스 생성 (이미 X_train에 적용된 방식과 동일해야 함)\n",
        "imputer = SimpleImputer(strategy='mean')\n",
        "\n",
        "# X_valid에 결측치 처리\n",
        "X_valid_imputed = imputer.fit_transform(X_valid)\n",
        "\n",
        "# 모델 불러오기 및 예측 확률 계산\n",
        "rf_model = joblib.load('mlp_model_round_2.pkl')\n",
        "y_pred_prob = rf_model.predict_proba(X_valid_imputed)\n",
        "\n",
        "# 후속 코드...\n",
        "\n",
        "\n",
        "# # 저장된 모델 불러오기\n",
        "# rf_model = joblib.load('mlp_model_round_1.pkl')\n",
        "# # 예측 확률 계산\n",
        "# y_pred_prob = rf_model.predict_proba(X_valid)\n",
        "\n",
        "# 레이블에 따라 확률을 그룹화\n",
        "grouped_prob = {label: [] for label in np.unique(y_valid)}\n",
        "for prob, label in zip(y_pred_prob, y_valid):\n",
        "    grouped_prob[label].append(prob)\n",
        "\n",
        "# 각 레이블에 대한 평균 확률 계산\n",
        "average_probs = {label: np.mean(probs, axis=0) for label, probs in grouped_prob.items()}\n",
        "\n",
        "# 평균 확률을 DataFrame으로 변환\n",
        "average_probs_df = pd.DataFrame(average_probs).transpose()\n",
        "average_probs_df.columns = [f'{i}' for i in range(y_pred_prob.shape[1])]\n",
        "average_probs_df['label'] = average_probs_df.index\n",
        "\n",
        "# 'label' 열을 맨 앞으로 이동\n",
        "column_order = ['label'] + [col for col in average_probs_df if col != 'label']\n",
        "average_probs_df = average_probs_df[column_order]\n",
        "\n",
        "# DataFrame 생성 및 CSV로 저장\n",
        "average_probs_df.to_csv('./2_avg_prob.csv', index=False, float_format='%.3f')"
      ],
      "metadata": {
        "id": "TO0r7kuAI6DI"
      },
      "execution_count": 106,
      "outputs": []
    }
  ]
}